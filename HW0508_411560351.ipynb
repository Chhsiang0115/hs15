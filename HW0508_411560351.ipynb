{
  "nbformat": 4,
  "nbformat_minor": 0,
  "metadata": {
    "colab": {
      "provenance": [],
      "authorship_tag": "ABX9TyM4xMD7lf1uMXQeVONdLpAt",
      "include_colab_link": true
    },
    "kernelspec": {
      "name": "python3",
      "display_name": "Python 3"
    },
    "language_info": {
      "name": "python"
    }
  },
  "cells": [
    {
      "cell_type": "markdown",
      "metadata": {
        "id": "view-in-github",
        "colab_type": "text"
      },
      "source": [
        "<a href=\"https://colab.research.google.com/github/Chhsiang0115/hs15/blob/main/HW0508_411560351.ipynb\" target=\"_parent\"><img src=\"https://colab.research.google.com/assets/colab-badge.svg\" alt=\"Open In Colab\"/></a>"
      ]
    },
    {
      "cell_type": "code",
      "source": [
        "temperature = float(input(\"請輸入體溫\"))\n",
        "if(temperature >=37.5):\n",
        "  print(\"體溫過高!\")\n",
        "elif(temperature <=37.4 and temperature>=37.0):\n",
        "  print(\"體溫略高!\")\n",
        "elif(temperature <=36.9 and temperature>=35.0):\n",
        "  print(\"體溫正常\")\n",
        "else:\n",
        "  print(\"體溫異常,請重新測量!\")"
      ],
      "metadata": {
        "colab": {
          "base_uri": "https://localhost:8080/"
        },
        "id": "SvDrjyC5IKR4",
        "outputId": "f0c1c592-4732-4050-e62b-77bf143e7e6c"
      },
      "execution_count": 2,
      "outputs": [
        {
          "output_type": "stream",
          "name": "stdout",
          "text": [
            "請輸入體溫37.3\n",
            "體溫略高!\n"
          ]
        }
      ]
    },
    {
      "cell_type": "code",
      "source": [
        "temperature = float(input(\"請輸入體溫\"))\n",
        "if(temperature >=37.5):\n",
        "  print(\"體溫過高!\")\n",
        "elif(temperature <=37.4 and temperature>=37.0):\n",
        "  print(\"體溫略高!\")\n",
        "elif(temperature <=36.9 and temperature>=35.0):\n",
        "  print(\"體溫正常\")\n",
        "else:\n",
        "  print(\"體溫異常,請重新測量!\")"
      ],
      "metadata": {
        "colab": {
          "base_uri": "https://localhost:8080/"
        },
        "outputId": "35fcda9c-35f4-46d0-91e0-aa24d0cdae1d",
        "id": "PkK10ROjKuZy"
      },
      "execution_count": 3,
      "outputs": [
        {
          "output_type": "stream",
          "name": "stdout",
          "text": [
            "請輸入體溫35\n",
            "體溫正常\n"
          ]
        }
      ]
    },
    {
      "cell_type": "code",
      "source": [],
      "metadata": {
        "id": "iKWqaci8K2_9"
      },
      "execution_count": null,
      "outputs": []
    },
    {
      "cell_type": "code",
      "source": [
        "temperature = float(input(\"請輸入體溫\"))\n",
        "if(temperature >=37.5):\n",
        "  print(\"體溫過高!\")\n",
        "elif(temperature <=37.4 and temperature>=37.0):\n",
        "  print(\"體溫略高!\")\n",
        "elif(temperature <=36.9 and temperature>=35.0):\n",
        "  print(\"體溫正常\")\n",
        "else:\n",
        "  print(\"體溫異常,請重新測量!\")"
      ],
      "metadata": {
        "colab": {
          "base_uri": "https://localhost:8080/"
        },
        "outputId": "87d08cf7-f7d8-4105-80db-4c3c4bcd1871",
        "id": "-eHcbmjjK3e4"
      },
      "execution_count": 4,
      "outputs": [
        {
          "output_type": "stream",
          "name": "stdout",
          "text": [
            "請輸入體溫31\n",
            "體溫異常,請重新測量!\n"
          ]
        }
      ]
    },
    {
      "cell_type": "code",
      "source": [],
      "metadata": {
        "id": "qOAShi6VK9Mp"
      },
      "execution_count": null,
      "outputs": []
    },
    {
      "cell_type": "code",
      "source": [
        "grade = int(input(\"請輸入成績\"))\n",
        "if(grade>=90):\n",
        "  print(\"A\")\n",
        "elif(grade <=89 and grade>=80):\n",
        "  print(\"B\")\n",
        "elif(grade <=79 and grade>=70):\n",
        "  print(\"C\")\n",
        "elif(grade <=69 and grade>=60):\n",
        "  print(\"D\")\n",
        "else:\n",
        "  print(\"E\")"
      ],
      "metadata": {
        "colab": {
          "base_uri": "https://localhost:8080/"
        },
        "outputId": "ab376371-e67b-4624-ab88-bbbb36c7f09c",
        "id": "-Df-cXMtK98-"
      },
      "execution_count": 5,
      "outputs": [
        {
          "output_type": "stream",
          "name": "stdout",
          "text": [
            "請輸入成績86\n",
            "B\n"
          ]
        }
      ]
    },
    {
      "cell_type": "code",
      "source": [],
      "metadata": {
        "id": "R8IIeP9wL_w1"
      },
      "execution_count": null,
      "outputs": []
    },
    {
      "cell_type": "code",
      "source": [
        "grade = int(input(\"請輸入成績\"))\n",
        "if(grade>=90):\n",
        "  print(\"A\")\n",
        "elif(grade <=89 and grade>=80):\n",
        "  print(\"B\")\n",
        "elif(grade <=79 and grade>=70):\n",
        "  print(\"C\")\n",
        "elif(grade <=69 and grade>=60):\n",
        "  print(\"D\")\n",
        "else:\n",
        "  print(\"E\")"
      ],
      "metadata": {
        "colab": {
          "base_uri": "https://localhost:8080/"
        },
        "outputId": "18e8acae-ca7a-4ad7-a169-1dbe7b104a95",
        "id": "w0nz86ZcMAaX"
      },
      "execution_count": 6,
      "outputs": [
        {
          "output_type": "stream",
          "name": "stdout",
          "text": [
            "請輸入成績75\n",
            "C\n"
          ]
        }
      ]
    },
    {
      "cell_type": "code",
      "source": [],
      "metadata": {
        "id": "F3dX2sknMDn7"
      },
      "execution_count": null,
      "outputs": []
    },
    {
      "cell_type": "code",
      "source": [
        "grade = int(input(\"請輸入成績\"))\n",
        "if(grade>=90):\n",
        "  print(\"A\")\n",
        "elif(grade <=89 and grade>=80):\n",
        "  print(\"B\")\n",
        "elif(grade <=79 and grade>=70):\n",
        "  print(\"C\")\n",
        "elif(grade <=69 and grade>=60):\n",
        "  print(\"D\")\n",
        "else:\n",
        "  print(\"E\")"
      ],
      "metadata": {
        "colab": {
          "base_uri": "https://localhost:8080/"
        },
        "outputId": "11f22a06-0637-4959-cb76-fa70ec113806",
        "id": "0I9sC-57MEQ8"
      },
      "execution_count": 7,
      "outputs": [
        {
          "output_type": "stream",
          "name": "stdout",
          "text": [
            "請輸入成績59\n",
            "E\n"
          ]
        }
      ]
    },
    {
      "cell_type": "code",
      "source": [],
      "metadata": {
        "id": "ymQHIGjWMI57"
      },
      "execution_count": null,
      "outputs": []
    },
    {
      "cell_type": "code",
      "source": [
        "season = int(input(\"請輸入月份\"))\n",
        "if(season == 3 or season == 4 or season == 5):\n",
        "  print(\"春天\")\n",
        "elif(season == 6 or season == 7 or season == 8):\n",
        "  print(\"夏天\")\n",
        "elif(season == 9 or season == 10 or season == 11):\n",
        "  print(\"秋天\")\n",
        "elif(season == 12 or season == 1 or season == 2):\n",
        "  print(\"冬天\")\n",
        "else:\n",
        "  print(\"月份不在範圍內\")"
      ],
      "metadata": {
        "colab": {
          "base_uri": "https://localhost:8080/"
        },
        "outputId": "5d81ac58-ce50-4e14-ffb5-cd439df8da92",
        "id": "J8RX6wd_MLUf"
      },
      "execution_count": 11,
      "outputs": [
        {
          "output_type": "stream",
          "name": "stdout",
          "text": [
            "請輸入月份3\n",
            "春天\n"
          ]
        }
      ]
    },
    {
      "cell_type": "code",
      "source": [],
      "metadata": {
        "id": "mrRiWCAjNbK8"
      },
      "execution_count": null,
      "outputs": []
    },
    {
      "cell_type": "code",
      "source": [
        "season = int(input(\"請輸入月份\"))\n",
        "if(season == 3 or season == 4 or season == 5):\n",
        "  print(\"春天\")\n",
        "elif(season == 6 or season == 7 or season == 8):\n",
        "  print(\"夏天\")\n",
        "elif(season == 9 or season == 10 or season == 11):\n",
        "  print(\"秋天\")\n",
        "elif(season == 12 or season == 1 or season == 2):\n",
        "  print(\"冬天\")\n",
        "else:\n",
        "  print(\"月份不在範圍內\")"
      ],
      "metadata": {
        "colab": {
          "base_uri": "https://localhost:8080/"
        },
        "outputId": "02699ded-5440-4a26-feda-b4977e85c55e",
        "id": "bBW4CeujNb8K"
      },
      "execution_count": 12,
      "outputs": [
        {
          "output_type": "stream",
          "name": "stdout",
          "text": [
            "請輸入月份9\n",
            "秋天\n"
          ]
        }
      ]
    },
    {
      "cell_type": "code",
      "source": [],
      "metadata": {
        "id": "-IUCvNCpNuCS"
      },
      "execution_count": null,
      "outputs": []
    },
    {
      "cell_type": "code",
      "source": [
        "season = int(input(\"請輸入月份\"))\n",
        "if(season == 3 or season == 4 or season == 5):\n",
        "  print(\"春天\")\n",
        "elif(season == 6 or season == 7 or season == 8):\n",
        "  print(\"夏天\")\n",
        "elif(season == 9 or season == 10 or season == 11):\n",
        "  print(\"秋天\")\n",
        "elif(season == 12 or season == 1 or season == 2):\n",
        "  print(\"冬天\")\n",
        "else:\n",
        "  print(\"月份不在範圍內\")"
      ],
      "metadata": {
        "colab": {
          "base_uri": "https://localhost:8080/"
        },
        "outputId": "b5953e43-ce2e-468d-8335-aecd441c590d",
        "id": "fuf_EyjUNus3"
      },
      "execution_count": 13,
      "outputs": [
        {
          "output_type": "stream",
          "name": "stdout",
          "text": [
            "請輸入月份13\n",
            "月份不在範圍內\n"
          ]
        }
      ]
    }
  ]
}